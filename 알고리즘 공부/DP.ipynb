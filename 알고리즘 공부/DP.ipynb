{
 "cells": [
  {
   "cell_type": "markdown",
   "metadata": {},
   "source": [
    "# 01타일\n",
    "## boj 1904\n",
    "https://www.acmicpc.net/problem/1904"
   ]
  },
  {
   "cell_type": "code",
   "execution_count": null,
   "metadata": {},
   "outputs": [],
   "source": [
    "n=int(input())\n",
    "tile = [0] * 1000001\n",
    "tile[1]=1\n",
    "tile[2]=2\n",
    "for i in range(3,n+1):\n",
    "    tile[i]=((tile[i-1]%15746)+(tile[i-2]%15746))%15746\n",
    "print(tile[n])"
   ]
  },
  {
   "cell_type": "markdown",
   "metadata": {},
   "source": [
    "# 평범한 배낭\n",
    "## 12865\n",
    "https://www.acmicpc.net/problem/12865"
   ]
  },
  {
   "cell_type": "code",
   "execution_count": null,
   "metadata": {},
   "outputs": [],
   "source": [
    "n,k=map(int,input().split())\n",
    "dp=[[0]*(k+1) for _ in range(n+1)]\n",
    "for i in range(1,n+1):\n",
    "    a,b=map(int,input().split())\n",
    "    for j in range(1,k+1):\n",
    "        if j<a:\n",
    "            dp[i][j]=dp[i-1][j]\n",
    "        else:\n",
    "            dp[i][j]=max(dp[i-1][j],dp[i-1][j-a]+b)\n",
    "print(dp[n][k])"
   ]
  },
  {
   "cell_type": "code",
   "execution_count": null,
   "metadata": {},
   "outputs": [],
   "source": [
    "temp=[[1,2],[2,2]]\n",
    "temp[1][1]"
   ]
  },
  {
   "cell_type": "markdown",
   "metadata": {},
   "source": [
    "# 가장 긴 증가하는 부분 수열\n",
    "## boj 11053\n",
    "https://www.acmicpc.net/problem/11053"
   ]
  },
  {
   "cell_type": "code",
   "execution_count": null,
   "metadata": {},
   "outputs": [],
   "source": [
    "n=int(input())\n",
    "dp=[1]*n\n",
    "ans=0\n",
    "temp=list(map(int,input().split()))\n",
    "for i in range(1,n):\n",
    "    for j in range(0,i):\n",
    "        if temp[j]<temp[i]:\n",
    "            dp[i]=max(dp[i],dp[j]+1)\n",
    "print(max(dp))"
   ]
  },
  {
   "cell_type": "markdown",
   "metadata": {},
   "source": [
    "# LCS\n",
    "## boj 9251\n",
    "https://www.acmicpc.net/problem/9251"
   ]
  },
  {
   "cell_type": "code",
   "execution_count": 1,
   "metadata": {},
   "outputs": [
    {
     "name": "stdout",
     "output_type": "stream",
     "text": [
      "abc\n",
      "bc\n",
      "2\n"
     ]
    }
   ],
   "source": [
    "a=input()\n",
    "b=input()\n",
    "dp=[[0]*(len(b)+1) for _ in range(len(a)+1)]\n",
    "for i in range(1,len(a)+1):\n",
    "    for j in range(1,len(b)+1):\n",
    "        if a[i-1]==b[j-1]:\n",
    "            dp[i][j]=dp[i-1][j-1]+1\n",
    "        else:\n",
    "            dp[i][j]=max(dp[i][j-1],dp[i-1][j])\n",
    "print(dp[len(a)][len(b)])\n"
   ]
  },
  {
   "cell_type": "code",
   "execution_count": null,
   "metadata": {},
   "outputs": [],
   "source": []
  },
  {
   "cell_type": "code",
   "execution_count": null,
   "metadata": {},
   "outputs": [],
   "source": []
  }
 ],
 "metadata": {
  "kernelspec": {
   "display_name": "Python 3",
   "language": "python",
   "name": "python3"
  },
  "language_info": {
   "codemirror_mode": {
    "name": "ipython",
    "version": 3
   },
   "file_extension": ".py",
   "mimetype": "text/x-python",
   "name": "python",
   "nbconvert_exporter": "python",
   "pygments_lexer": "ipython3",
   "version": "3.7.4"
  }
 },
 "nbformat": 4,
 "nbformat_minor": 2
}
