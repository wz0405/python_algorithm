{
 "cells": [
  {
   "cell_type": "markdown",
   "metadata": {},
   "source": [
    "# 문서 검색\n",
    "## boj 1543\n",
    "https://www.acmicpc.net/problem/1543"
   ]
  },
  {
   "cell_type": "code",
   "execution_count": null,
   "metadata": {},
   "outputs": [],
   "source": [
    "temp=input()\n",
    "fin=input()\n",
    "index=0\n",
    "num=0\n",
    "while len(temp)-index>=len(fin):\n",
    "    if temp[index:index+len(fin)]==fin:\n",
    "        num+=1\n",
    "        index+=len(fin)\n",
    "    else:\n",
    "        index+=1\n",
    "print(num)"
   ]
  },
  {
   "cell_type": "markdown",
   "metadata": {},
   "source": [
    "# 새\n",
    "## BOJ 1568\n",
    "https://www.acmicpc.net/problem/1568"
   ]
  },
  {
   "cell_type": "code",
   "execution_count": null,
   "metadata": {
    "scrolled": true
   },
   "outputs": [],
   "source": [
    "n=int(input())\n",
    "cnt=0\n",
    "i=1\n",
    "while n!=0:\n",
    "    if i>n:\n",
    "        i=1\n",
    "    n-=i\n",
    "    i+=1\n",
    "    cnt+=1\n",
    "print(cnt)"
   ]
  },
  {
   "cell_type": "markdown",
   "metadata": {},
   "source": [
    "# 베스트셀러\n",
    "## boj 1302\n",
    "https://www.acmicpc.net/problem/1302"
   ]
  },
  {
   "cell_type": "code",
   "execution_count": null,
   "metadata": {},
   "outputs": [],
   "source": [
    "from collections import Counter\n",
    "n=int(input())\n",
    "temp=[]\n",
    "ans=[]\n",
    "for _ in range(n):\n",
    "    temp.append(input())\n",
    "count=Counter(temp)\n",
    "num=max(count.values())\n",
    "for book,cnt in count.items():\n",
    "    if cnt==num:\n",
    "        ans.append(book)\n",
    "print(sorted(ans)[0])"
   ]
  },
  {
   "cell_type": "markdown",
   "metadata": {},
   "source": [
    "# 트로피 진열\n",
    "## boj 1668\n",
    "https://www.acmicpc.net/problem/1668"
   ]
  },
  {
   "cell_type": "code",
   "execution_count": null,
   "metadata": {
    "scrolled": true
   },
   "outputs": [],
   "source": [
    "n=int(input())\n",
    "temp=[]\n",
    "lcnt=1\n",
    "rcnt=1\n",
    "for _ in range(n):\n",
    "    temp.append(int(input()))\n",
    "ck=max(temp)\n",
    "\n",
    "for j in range(len(temp)-1):\n",
    "    if temp[j]==ck:\n",
    "        break\n",
    "    elif temp[j]<temp[j+1]:\n",
    "        lcnt+=1\n",
    "temp1=list(reversed(temp))\n",
    "for i in range(len(temp1)-1):\n",
    "    if temp1[i]==ck:\n",
    "        break\n",
    "    elif temp1[i]<temp1[i+1]:\n",
    "        rcnt+=1\n",
    "print(lcnt)\n",
    "print(rcnt)"
   ]
  },
  {
   "cell_type": "markdown",
   "metadata": {},
   "source": [
    "# 성 지키기\n",
    "## boj 1236\n",
    "https://www.acmicpc.net/problem/1236"
   ]
  },
  {
   "cell_type": "code",
   "execution_count": null,
   "metadata": {},
   "outputs": [],
   "source": [
    "n,m=map(int,input().split())\n",
    "array=[]\n",
    "for _ in range(n):\n",
    "    array.append(input())\n",
    "print(array)\n",
    "row=[0]*n\n",
    "col=[0]*m\n",
    "for i in range(n):\n",
    "    for j in range(m):\n",
    "        if array[i][j]=='X':\n",
    "            row[i]=1\n",
    "            col[j]=1\n",
    "rowcnt=0\n",
    "for i in range(n):\n",
    "    if row[i]==0:\n",
    "        rowcnt+=1\n",
    "colcnt=0\n",
    "for j in range(m):\n",
    "    if col[j]==0:\n",
    "        colcnt+=1\n",
    "print(max(rowcnt,colcnt))"
   ]
  },
  {
   "cell_type": "markdown",
   "metadata": {},
   "source": [
    "# 공유기 설치\n",
    "## boj 2110\n",
    "https://www.acmicpc.net/problem/2110"
   ]
  },
  {
   "cell_type": "code",
   "execution_count": null,
   "metadata": {},
   "outputs": [],
   "source": [
    "n,c=map(int,input().split())\n",
    "ans=[]\n",
    "array=[]\n",
    "for _ in range(n):\n",
    "    array.append(int(input()))\n",
    "array.sort()\n",
    "start=array[1]-array[0]\n",
    "end=array[-1]-array[0]\n",
    "result=0\n",
    "\n",
    "while(start<=end):\n",
    "    gap=(start+end)//2\n",
    "    value=array[0]\n",
    "    cnt=1\n",
    "    for i in range(1,len(array)):\n",
    "        if array[i]>=value+gap:\n",
    "            value=array[i]\n",
    "            cnt+=1\n",
    "    if cnt>=c:\n",
    "        start=gap+1\n",
    "        result=gap\n",
    "    else:\n",
    "        end=gap-1\n",
    "print(result)\n",
    "        \n"
   ]
  },
  {
   "cell_type": "markdown",
   "metadata": {},
   "source": [
    "# 트리순회\n",
    "## boj 1991\n",
    "https://www.acmicpc.net/problem/1991"
   ]
  },
  {
   "cell_type": "code",
   "execution_count": null,
   "metadata": {},
   "outputs": [],
   "source": [
    "class Node:\n",
    "    def __init__(self,data,left,right):\n",
    "        self.data=data\n",
    "        self.left=left\n",
    "        self.right=right\n",
    "def pre_order(node):\n",
    "    print(node.data,end='')\n",
    "    if node.left!='.':\n",
    "        pre_order(tree[node.left])\n",
    "    if node.right!='.':\n",
    "        pre_order(tree[node.right])\n",
    "def in_order(node):\n",
    "    if node.left!='.':\n",
    "        in_order(tree)\n",
    "n=int(input())\n",
    "tree={}\n",
    "for i in range(n):\n",
    "    data,left,right=input().split()\n",
    "    tree[data]=Node(data,left,right)\n",
    "pre_order(tree['a'])"
   ]
  },
  {
   "cell_type": "markdown",
   "metadata": {},
   "source": [
    "# 최소 힙\n",
    "## boj 1927\n",
    "https://www.acmicpc.net/problem/1927"
   ]
  },
  {
   "cell_type": "code",
   "execution_count": 2,
   "metadata": {},
   "outputs": [
    {
     "name": "stdout",
     "output_type": "stream",
     "text": [
      "9\n",
      "0\n",
      "1234\n",
      "1\n",
      "2\n",
      "0\n",
      "0\n",
      "0\n",
      "0\n",
      "32\n",
      "0\n",
      "1\n",
      "2\n",
      "1234\n",
      "0\n"
     ]
    }
   ],
   "source": [
    "import heapq\n",
    "n=int(input())\n",
    "heap=[]\n",
    "ans=[]\n",
    "for _ in range(n):\n",
    "    n=int(input())\n",
    "    if n!=0:\n",
    "        heapq.heappush(heap,n)\n",
    "    else:\n",
    "        if not heap:\n",
    "            ans.append(0)\n",
    "        else:\n",
    "            ans.append(heapq.heappop(heap))\n",
    "\n",
    "for i in ans:\n",
    "    print(i)"
   ]
  },
  {
   "cell_type": "markdown",
   "metadata": {},
   "source": [
    "# 카드 정렬하기\n",
    "## boj 1715\n",
    "https://www.acmicpc.net/problem/1715"
   ]
  },
  {
   "cell_type": "code",
   "execution_count": 23,
   "metadata": {},
   "outputs": [
    {
     "name": "stdout",
     "output_type": "stream",
     "text": [
      "5\n",
      "10\n",
      "20\n",
      "30\n",
      "40\n",
      "50\n",
      "[30, 30, 50, 70, 70]\n",
      "250\n"
     ]
    }
   ],
   "source": [
    "n=int(input())\n",
    "temp=[]\n",
    "ans=[]\n",
    "result=0\n",
    "for _ in range(n):\n",
    "    temp.append(int(input()))\n",
    "temp.sort()\n",
    "if len(temp)%2==0:\n",
    "    for i in range(0,len(temp),2):\n",
    "        ans.append(temp[i]+temp[i+1])\n",
    "else:\n",
    "    ans.append(temp.pop())\n",
    "    for i in range(0,len(temp),2):\n",
    "        ans.append(temp[i]+temp[i+1])\n",
    "        ans.append(temp[i]+temp[i+1])\n",
    "\n",
    "\n",
    "ans.sort()\n",
    "print(ans)\n",
    "for i in ans:\n",
    "    result+=i\n",
    "print(result)"
   ]
  },
  {
   "cell_type": "code",
   "execution_count": 1,
   "metadata": {},
   "outputs": [
    {
     "name": "stdout",
     "output_type": "stream",
     "text": [
      "4\n",
      "10\n",
      "20\n",
      "40\n",
      "50\n",
      "220\n"
     ]
    }
   ],
   "source": [
    "import heapq\n",
    "n=int(input())\n",
    "heap=[]\n",
    "for _ in range(n):\n",
    "    num=int(input())\n",
    "    heapq.heappush(heap,num)\n",
    "result=0\n",
    "while len(heap)!=1:\n",
    "    a=heapq.heappop(heap)\n",
    "    b=heapq.heappop(heap)\n",
    "    c=a+b\n",
    "    heapq.heappush(heap,c)\n",
    "    result+=c\n",
    "print(result)"
   ]
  },
  {
   "cell_type": "code",
   "execution_count": null,
   "metadata": {},
   "outputs": [],
   "source": [
    "import heapq"
   ]
  }
 ],
 "metadata": {
  "kernelspec": {
   "display_name": "Python 3",
   "language": "python",
   "name": "python3"
  },
  "language_info": {
   "codemirror_mode": {
    "name": "ipython",
    "version": 3
   },
   "file_extension": ".py",
   "mimetype": "text/x-python",
   "name": "python",
   "nbconvert_exporter": "python",
   "pygments_lexer": "ipython3",
   "version": "3.7.4"
  }
 },
 "nbformat": 4,
 "nbformat_minor": 2
}
