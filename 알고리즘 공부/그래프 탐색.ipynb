{
 "cells": [
  {
   "cell_type": "markdown",
   "metadata": {},
   "source": [
    "# bfs dfs\n",
    "## boj 1260\n",
    "https://www.acmicpc.net/problem/1260\n"
   ]
  },
  {
   "cell_type": "code",
   "execution_count": null,
   "metadata": {},
   "outputs": [],
   "source": [
    "from collections import deque\n",
    "def dfs(v):\n",
    "    print(v,end=' ')\n",
    "    visited[v] =True\n",
    "    for e in temp[v]:\n",
    "        if not(visited[e]):\n",
    "            dfs(e)\n",
    "def bfs(v):\n",
    "    q=deque([v])\n",
    "    while q:\n",
    "        v=q.popleft()\n",
    "        break\n",
    "        if not(visited[v]): #방문하지 않았다면\n",
    "            visited[v]=True #방문처리\n",
    "            print(v,end=' ') #노드 출력\n",
    "            for e in temp[v]: \n",
    "                if not visited[e]:\n",
    "                    q.append(e)\n",
    "\n",
    "n,m,v=map(int,input().split())\n",
    "temp=[[] for _ in range(n+1)]\n",
    "for _ in range(m):\n",
    "    a,b=map(int,input().split())\n",
    "    temp[a].append(b)\n",
    "    temp[b].append(a)\n",
    "for e in temp:\n",
    "    e.sort()\n",
    "\n",
    "visited=[False]*(n+1)\n",
    "bfs(v)"
   ]
  },
  {
   "cell_type": "code",
   "execution_count": null,
   "metadata": {},
   "outputs": [],
   "source": [
    "q=deque([1])\n",
    "v=q.popleft()\n",
    "\n",
    "print(v)"
   ]
  },
  {
   "cell_type": "code",
   "execution_count": null,
   "metadata": {},
   "outputs": [],
   "source": [
    "from collections import deque\n",
    "s,e=map(int,input().split())\n",
    "MAX=100001\n",
    "array=[0]*MAX\n",
    "def bfs():\n",
    "    q=deque([s])\n",
    "    while q:\n",
    "        v=q.popleft()\n",
    "        if v==e:\n",
    "            return array[v]\n",
    "        for a in (v-1,v+1,v*2):\n",
    "            if 0<=a<MAX and not array[a]:\n",
    "                array[a]=array[v]+1\n",
    "                q.append(a)\n",
    "print(bfs())\n",
    "            "
   ]
  },
  {
   "cell_type": "markdown",
   "metadata": {},
   "source": [
    "# 바이러스\n",
    "## boj 2606\n",
    "https://www.acmicpc.net/problem/2606"
   ]
  },
  {
   "cell_type": "code",
   "execution_count": null,
   "metadata": {},
   "outputs": [],
   "source": [
    "from collections import deque\n",
    "n=int(input())\n",
    "m=int(input())\n",
    "ans=0\n",
    "temp=[[] for _ in range(n+1)]\n",
    "for _ in range(m):\n",
    "    a,b=map(int,input().split())\n",
    "    temp[a].append(b)\n",
    "    temp[b].append(a)\n",
    "print(temp)\n",
    "check=[False]*(n+1)\n",
    "def bfs(start):\n",
    "    q=deque([start])\n",
    "    while q:\n",
    "        v=q.popleft()\n",
    "        print(v)\n",
    "        if not check[v]:\n",
    "            check[v]=True\n",
    "            for e in temp[v]:\n",
    "                if not check[e]:\n",
    "                    q.append(e)\n",
    "bfs(1) \n",
    "print(check)\n",
    "for i in check:\n",
    "    if i==True:\n",
    "        ans+=1\n",
    "print(ans-1)\n",
    "\n",
    "        "
   ]
  },
  {
   "cell_type": "markdown",
   "metadata": {},
   "source": [
    "# 유기농 배추\n",
    "## boj 1012\n",
    "https://www.acmicpc.net/problem/1012"
   ]
  },
  {
   "cell_type": "code",
   "execution_count": null,
   "metadata": {},
   "outputs": [],
   "source": [
    "import sys\n",
    "sys.setrecursionlimit(100000)\n",
    "from collections import deque\n",
    "\n",
    "n=int(input())\n",
    "def bfs(x,y):\n",
    "    di=[(-1,0),(1,0),(0,-1),(0,1)]\n",
    "    visited[x][y]=True\n",
    "    for dx,dy in di:\n",
    "        nx,ny=x+dx,y+dy\n",
    "        if nx<0 or nx>=n or ny<0 or ny>=m:\n",
    "            continue\n",
    "        if array[nx][ny] and not visited[nx][ny]:\n",
    "            bfs(nx,ny)\n",
    "    \n",
    "for _ in range(n):\n",
    "    m,n,k=map(int,input().split())\n",
    "    array=[[0]*m for _ in range(n)]\n",
    "    visited=[[False]*m for _ in range(n)]\n",
    "    result=0\n",
    "    for _ in range(k):\n",
    "        y,x=map(int,input().split())\n",
    "        array[x][y]=1\n",
    "    for i in range(n):\n",
    "        for j in range(m):\n",
    "            if array[i][j] and not visited[i][j]:\n",
    "                bfs(i,j)\n",
    "                result+=1\n",
    "    print(result)\n",
    "        "
   ]
  },
  {
   "cell_type": "markdown",
   "metadata": {},
   "source": [
    "# 효율적인 해킹\n",
    "## boj 1325\n",
    "https://www.acmicpc.net/problem/1325"
   ]
  },
  {
   "cell_type": "code",
   "execution_count": 1,
   "metadata": {
    "scrolled": true
   },
   "outputs": [
    {
     "name": "stdout",
     "output_type": "stream",
     "text": [
      "5 4\n",
      "3 1\n",
      "3 2\n",
      "4 3\n",
      "5 3\n",
      "1 2 "
     ]
    }
   ],
   "source": [
    "from collections import deque\n",
    "n,m=map(int,input().split())\n",
    "array=[[] for i in range(n+1)]\n",
    "visited=[False]*(n+1)\n",
    "temp=[]\n",
    "for _ in range(m):\n",
    "    a,b=map(int,input().split())\n",
    "    array[b].append(a)\n",
    "def bfs(start):\n",
    "    q=deque([start])\n",
    "    while q:\n",
    "        v=q.popleft()\n",
    "        if not visited[v]:\n",
    "            visited[v]=True\n",
    "            for e in array[v]:\n",
    "                if not visited[e]:\n",
    "                    q.append(e)\n",
    "                \n",
    "for i in range(1,n+1):\n",
    "    bfs(i)\n",
    "    cnt=0\n",
    "    for j in visited:\n",
    "        if j==True:\n",
    "            cnt+=1\n",
    "    temp.append(cnt)\n",
    "    visited=[False]*(n+1)\n",
    "maxi=max(temp)\n",
    "for k in range(len(temp)):\n",
    "    if maxi==temp[k]:\n",
    "        print(k+1,end=' ')"
   ]
  },
  {
   "cell_type": "code",
   "execution_count": 6,
   "metadata": {},
   "outputs": [
    {
     "data": {
      "text/plain": [
       "3"
      ]
     },
     "execution_count": 6,
     "metadata": {},
     "output_type": "execute_result"
    }
   ],
   "source": [
    "a=[[1, 1, 0], [1, 1, 0], [0, 0, 1]]\n",
    "len(a)"
   ]
  },
  {
   "cell_type": "markdown",
   "metadata": {},
   "source": [
    "   # 해킹\n",
    "   ## boj 10282\n",
    "   https://www.acmicpc.net/problem/10282\n",
    "  "
   ]
  },
  {
   "cell_type": "code",
   "execution_count": 7,
   "metadata": {},
   "outputs": [
    {
     "name": "stdout",
     "output_type": "stream",
     "text": [
      "1\n",
      "3 2 2\n",
      "2 1 5\n",
      "3 2 5\n",
      "[(0, 2)]\n",
      "2 5\n"
     ]
    }
   ],
   "source": [
    "import heapq\n",
    "\n",
    "def dik(start):\n",
    "    queue=[]\n",
    "    heapq.heappush(queue,(0,start))\n",
    "    distance[start]=0\n",
    "    while queue:\n",
    "        dist,now=heapq.heappop(queue)\n",
    "        if distance[now]<dist:\n",
    "            continue\n",
    "        for i in temp[now]:\n",
    "            cost=dist+i[1]\n",
    "            if distance[i[0]]>cost:\n",
    "                distance[i[0]]=cost\n",
    "                heapq.heappush(queue,(cost,i[0]))\n",
    "        \n",
    "        \n",
    "        \n",
    "for _ in range(int(input())):\n",
    "    n,d,c=map(int,input().split())\n",
    "    temp=[[]for i in range(n+1)]\n",
    "    distance=[1e9]*(n+1)\n",
    "    for _ in range(d):\n",
    "        a,b,s=map(int,input().split())\n",
    "        temp[b].append((a,s))\n",
    "    dik(c)\n",
    "    cnt=0\n",
    "    maxi=0\n",
    "    for j in distance:\n",
    "        if j!= 1e9:\n",
    "            cnt+=1\n",
    "            if j > maxi:\n",
    "                maxi=j\n",
    "    print(cnt,maxi)\n",
    "        "
   ]
  },
  {
   "cell_type": "code",
   "execution_count": 2,
   "metadata": {},
   "outputs": [
    {
     "ename": "SyntaxError",
     "evalue": "invalid syntax (<ipython-input-2-c135c9472ab0>, line 2)",
     "output_type": "error",
     "traceback": [
      "\u001b[1;36m  File \u001b[1;32m\"<ipython-input-2-c135c9472ab0>\"\u001b[1;36m, line \u001b[1;32m2\u001b[0m\n\u001b[1;33m    3 2 2\u001b[0m\n\u001b[1;37m      ^\u001b[0m\n\u001b[1;31mSyntaxError\u001b[0m\u001b[1;31m:\u001b[0m invalid syntax\n"
     ]
    }
   ],
   "source": [
    "1\n",
    "3 2 2\n",
    "2 1 5\n",
    "3 2 5"
   ]
  },
  {
   "cell_type": "code",
   "execution_count": null,
   "metadata": {},
   "outputs": [],
   "source": [
    "import heapq\n",
    "\n",
    "def dijkstra(graph, start):\n",
    "    \n",
    "    distances = {node: float('inf') for node in graph}\n",
    "    distances[start] = 0\n",
    "    queue = []\n",
    "    heapq.heappush(queue, [distances[start], start])\n",
    "    \n",
    "    while queue:\n",
    "        current_distance, current_node = heapq.heappop(queue)\n",
    "        \n",
    "        if distances[current_node] < current_distance:\n",
    "            continue\n",
    "            \n",
    "        for adjacent, weight in graph[current_node].items():\n",
    "            distance = current_distance + weight\n",
    "            \n",
    "            if distance < distances[adjacent]:\n",
    "                distances[adjacent] = distance\n",
    "                heapq.heappush(queue, [distance, adjacent])\n",
    "                \n",
    "    return distances"
   ]
  },
  {
   "cell_type": "markdown",
   "metadata": {},
   "source": [
    "# 거의 최단 경로\n",
    "## boj 5719\n",
    "https://www.acmicpc.net/problem/5719"
   ]
  },
  {
   "cell_type": "code",
   "execution_count": 2,
   "metadata": {},
   "outputs": [
    {
     "ename": "SyntaxError",
     "evalue": "invalid syntax (<ipython-input-2-dd950eaa6e82>, line 1)",
     "output_type": "error",
     "traceback": [
      "\u001b[1;36m  File \u001b[1;32m\"<ipython-input-2-dd950eaa6e82>\"\u001b[1;36m, line \u001b[1;32m1\u001b[0m\n\u001b[1;33m    while map(int,input().split())!=0 0:\u001b[0m\n\u001b[1;37m                                      ^\u001b[0m\n\u001b[1;31mSyntaxError\u001b[0m\u001b[1;31m:\u001b[0m invalid syntax\n"
     ]
    }
   ],
   "source": [
    "while map(int,input().split())!=0 0:\n",
    "    print(a)"
   ]
  },
  {
   "cell_type": "markdown",
   "metadata": {},
   "source": [
    "# 최단 경로\n",
    "## boj 1753\n",
    "https://www.acmicpc.net/problem/1753"
   ]
  },
  {
   "cell_type": "code",
   "execution_count": 11,
   "metadata": {},
   "outputs": [
    {
     "name": "stdout",
     "output_type": "stream",
     "text": [
      "5 6\n",
      "1\n",
      "5 1 1\n",
      "1 2 2\n",
      "1 3 3\n",
      "2 3 4\n",
      "2 4 5\n",
      "3 4 6\n",
      "[1000000000.0, 0, 2, 3, 7, 1000000000.0]\n",
      "0\n",
      "2\n",
      "3\n",
      "7\n",
      "INF\n"
     ]
    }
   ],
   "source": [
    "import heapq\n",
    "ans=[]\n",
    "def dik(start):\n",
    "    que=[]\n",
    "    distance[start]=0\n",
    "    heapq.heappush(que,(0,start))\n",
    "    while que:\n",
    "        dis,now=heapq.heappop(que)\n",
    "        if distance[now]<dis:\n",
    "            continue\n",
    "        for i in temp[now]:\n",
    "            cost=dis+i[1]\n",
    "            if distance[i[0]]>cost:\n",
    "                distance[i[0]]=cost\n",
    "                heapq.heappush(que,(cost,i[0]))\n",
    "\n",
    "v,e = map(int,input().split())\n",
    "start=int(input())\n",
    "distance=[1e9]*(v+1)\n",
    "temp=[[] for i in range(v+1)]\n",
    "for _ in range(e):\n",
    "    u,v,w=map(int,input().split())\n",
    "    temp[u].append((v,w))\n",
    "dik(start)\n",
    "for j in distance:\n",
    "    if j==1e9:\n",
    "        ans.append('INF')\n",
    "    else:\n",
    "        ans.append(j)\n",
    "for z in ans[1:]:\n",
    "    print(z)"
   ]
  },
  {
   "cell_type": "markdown",
   "metadata": {},
   "source": [
    "[[], [(2, 2), (3, 3), (4, 1), (5, 10)], [(4, 2)], [(4, 1), (5, 1)], [(5, 3)], []]"
   ]
  },
  {
   "cell_type": "markdown",
   "metadata": {},
   "source": [
    "# 최소비용 구하기\n",
    "## boj 1916\n",
    "https://www.acmicpc.net/problem/1916"
   ]
  },
  {
   "cell_type": "code",
   "execution_count": 16,
   "metadata": {},
   "outputs": [
    {
     "name": "stdout",
     "output_type": "stream",
     "text": [
      "5\n",
      "8\n",
      "1 2 2\n",
      "1 3 3\n",
      "1 4 1\n",
      "1 5 10\n",
      "2 4 2\n",
      "3 4 1\n",
      "3 5 1\n",
      "4 5 3\n",
      "1 5\n",
      "[1000000000.0, 0, 2, 3, 1, 4]\n",
      "4\n"
     ]
    }
   ],
   "source": [
    "import heapq\n",
    "def dik(s):\n",
    "    que=[]\n",
    "    distance[s]=0\n",
    "    heapq.heappush(que,(0,s))\n",
    "    while que:\n",
    "        dis,now=heapq.heappop(que)\n",
    "        if distance[now]<dis:\n",
    "            continue\n",
    "        for i in temp[now]:\n",
    "            cost=i[1]+dis\n",
    "            if distance[i[0]]>cost:\n",
    "                distance[i[0]]=cost\n",
    "                heapq.heappush(que,(cost,i[0]))\n",
    "        \n",
    "n=int(input())\n",
    "m=int(input())\n",
    "distance=[1e9]*(n+1)\n",
    "temp=[[]for i in range(n+1)]\n",
    "for _ in range(m):\n",
    "    start,end,cost=map(int,input().split())\n",
    "    temp[start].append((end,cost))\n",
    "\n",
    "anstart,anend=map(int,input().split())\n",
    "dik(anstart)\n",
    "print(distance[anend])"
   ]
  },
  {
   "cell_type": "code",
   "execution_count": 84,
   "metadata": {},
   "outputs": [
    {
     "name": "stdout",
     "output_type": "stream",
     "text": [
      "[[], [1, 2], [1, 2], [3]]\n",
      "[[], ['', 2], [1, ''], ['']]\n"
     ]
    },
    {
     "data": {
      "text/plain": [
       "2"
      ]
     },
     "execution_count": 84,
     "metadata": {},
     "output_type": "execute_result"
    }
   ],
   "source": [
    "\n",
    "from collections import deque\n",
    "def bfs(v):\n",
    "    q=deque([v])\n",
    "    while q:\n",
    "        v=q.popleft()\n",
    "        if not visited[v]:\n",
    "            visited[v]=True\n",
    "            for e in ans[v]:\n",
    "                if not visited[e]:\n",
    "                    q.append(e)\n",
    "def solution(n, computers):\n",
    "    answer=0\n",
    "    visited=[False]*(n+1)\n",
    "    ans=[[] for _ in range(n+1)]\n",
    "    for j in range(len(computers)):\n",
    "        for k in range(len(computers[j])):\n",
    "            if computers[j][k]==1:\n",
    "                ans[j+1].append(k+1)\n",
    "    print(ans)\n",
    "\n",
    "    for a in range(len(ans)):   \n",
    "        for q in range(len(ans[a])):\n",
    "            if ans[a][q]==a:\n",
    "                ans[a][q]=''\n",
    "    print(ans)\n",
    "    for i in range(1,len(visited)):\n",
    "        if visited[i]==False:\n",
    "            bfs(i)\n",
    "            answer+=1\n",
    "    return answer-1\n",
    "\n",
    "\n",
    "n=3\n",
    "computers=[[1, 1, 0], [1, 1, 0], [0, 0, 1]]\n",
    "solution(n,computers)\n"
   ]
  },
  {
   "cell_type": "code",
   "execution_count": null,
   "metadata": {},
   "outputs": [],
   "source": []
  }
 ],
 "metadata": {
  "kernelspec": {
   "display_name": "Python 3",
   "language": "python",
   "name": "python3"
  },
  "language_info": {
   "codemirror_mode": {
    "name": "ipython",
    "version": 3
   },
   "file_extension": ".py",
   "mimetype": "text/x-python",
   "name": "python",
   "nbconvert_exporter": "python",
   "pygments_lexer": "ipython3",
   "version": "3.7.4"
  }
 },
 "nbformat": 4,
 "nbformat_minor": 2
}
