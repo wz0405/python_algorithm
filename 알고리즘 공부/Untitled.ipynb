{
 "cells": [
  {
   "cell_type": "markdown",
   "metadata": {},
   "source": [
    "# 거스름돈\n",
    "## boj 5585\n",
    "https://www.acmicpc.net/problem/5585"
   ]
  },
  {
   "cell_type": "code",
   "execution_count": null,
   "metadata": {},
   "outputs": [],
   "source": [
    "a=int(input())\n",
    "n=1000-a\n",
    "cnt=0\n",
    "while True:\n",
    "    if n!=0:\n",
    "        if n>=500 and n>100:\n",
    "            n-=500\n",
    "            cnt+=1\n",
    "        elif n>=100 and n>50:\n",
    "            n-=100\n",
    "            cnt+=1\n",
    "        elif n>=50 and n>10:\n",
    "            n-=50\n",
    "            cnt+=1\n",
    "        elif n>=10 and n>5:\n",
    "            n-=10\n",
    "            cnt+=1\n",
    "        elif n>=5 and n>1:\n",
    "            n-=5\n",
    "            cnt+=1\n",
    "        else:\n",
    "            n-=1\n",
    "            cnt+=1\n",
    "    else:\n",
    "        break\n",
    "print(cnt)"
   ]
  },
  {
   "cell_type": "markdown",
   "metadata": {},
   "source": [
    "# 뒤집기\n",
    "## boj 1439\n",
    "https://www.acmicpc.net/problem/1439"
   ]
  },
  {
   "cell_type": "code",
   "execution_count": null,
   "metadata": {},
   "outputs": [],
   "source": [
    "a=input()\n",
    "count0=0\n",
    "count1=0\n",
    "if a[0]=='1':\n",
    "    count0+=1\n",
    "else:\n",
    "    count1+=1\n",
    "for i in range(len(a)-1):\n",
    "    if a[i]!=a[i+1]:\n",
    "        if a[i+1]=='1':\n",
    "            count0+=1\n",
    "        else:\n",
    "            count1+=1\n",
    "print(min(count0,count1))\n",
    "    \n",
    "    "
   ]
  },
  {
   "cell_type": "markdown",
   "metadata": {},
   "source": [
    "# 등수 매기기\n",
    "## boj 2012\n",
    "https://www.acmicpc.net/problem/2012"
   ]
  },
  {
   "cell_type": "code",
   "execution_count": null,
   "metadata": {},
   "outputs": [],
   "source": [
    "n=int(input())\n",
    "temp=[]\n",
    "ans=0\n",
    "for _ in range(n):\n",
    "    temp.append(int(input()))\n",
    "temp.sort()\n",
    "for i in range(1,n+1):\n",
    "    if i!=temp[i-1]:\n",
    "        ans+=abs(i-temp[i-1])\n",
    "print(ans)\n"
   ]
  },
  {
   "cell_type": "markdown",
   "metadata": {},
   "source": [
    "# 배\n",
    "## boj 1092\n",
    "https://www.acmicpc.net/problem/1092"
   ]
  },
  {
   "cell_type": "code",
   "execution_count": null,
   "metadata": {},
   "outputs": [],
   "source": [
    "import sys\n",
    "cnt=0\n",
    "i=0\n",
    "n=int(input())\n",
    "crain=[]\n",
    "crain=list((map(int,input().split())))\n",
    "crain.sort(reverse=True)\n",
    "m=int(input())\n",
    "box=[]\n",
    "box=list((map(int,input().split())))\n",
    "box.sort(reverse=True)\n",
    "ck=False\n",
    "temp=[]\n",
    "if max(crain)<max(box):\n",
    "    print(-1)\n",
    "    sys.exit()\n",
    "while True:\n",
    "    if len(box)==0:\n",
    "        break\n",
    "    a=i%n\n",
    "    if len(box)>=1:\n",
    "        if crain[a]>=box[0]:\n",
    "            temp.append(box.pop(0))\n",
    "    i+=1\n",
    "if len(temp)%n!=0:\n",
    "    print((len(temp)//n)+1)\n",
    "elif len(temp)%n==0:\n",
    "    print((len(temp)//n))\n",
    "        "
   ]
  },
  {
   "cell_type": "markdown",
   "metadata": {},
   "source": [
    "# 센서\n",
    "## boj 2212\n",
    "https://www.acmicpc.net/problem/2212"
   ]
  },
  {
   "cell_type": "code",
   "execution_count": null,
   "metadata": {},
   "outputs": [],
   "source": [
    "import sys\n",
    "n=int(input())\n",
    "m=int(input())\n",
    "sensor=list(map(int,input().split()))\n",
    "sensor.sort()\n",
    "temp=[]\n",
    "if n==1:\n",
    "    print(0)\n",
    "    sys.exit()\n",
    "for i in range(len(sensor)-1):\n",
    "    temp.append(sensor[i+1]-sensor[i])\n",
    "temp.sort()\n",
    "for i in range(m-1):\n",
    "    temp.pop()\n",
    "print(sum(temp))"
   ]
  },
  {
   "cell_type": "markdown",
   "metadata": {},
   "source": [
    "# 도서관\n",
    "## boj 1461\n",
    "https://www.acmicpc.net/problem/1461"
   ]
  },
  {
   "cell_type": "code",
   "execution_count": 8,
   "metadata": {},
   "outputs": [
    {
     "name": "stdout",
     "output_type": "stream",
     "text": [
      "7 2\n",
      "-37 2 -6 -39 -29 11 -28\n",
      "11\n",
      "95\n",
      "124\n"
     ]
    }
   ],
   "source": [
    "n,m=map(int,input().split())\n",
    "start=0\n",
    "ans=0\n",
    "temp=list(map(int,input().split()))\n",
    "temp.sort()\n",
    "while True:\n",
    "    if len(temp)==0:\n",
    "        break\n",
    "    else:\n",
    "        if abs(temp[0])<abs(temp[-1]) and len(temp)>=m:\n",
    "            ans+=abs(temp[-1])\n",
    "            for _ in range(m):\n",
    "                temp.pop()\n",
    "            print(ans)\n",
    "            if abs(temp[0])>abs(temp[-1]) and len(temp)>=m:\n",
    "                ans+=abs(temp[0])*2\n",
    "                for _ in range(m):\n",
    "                    temp.pop(0)\n",
    "            elif abs(temp[0])<abs(temp[-1]) and len(temp)>=m:\n",
    "                ans+=abs(temp[0])*2\n",
    "                for _ in range(m):\n",
    "                    temp.pop(0)        \n",
    "            elif len(temp)<=m:\n",
    "                for i in range(len(temp)):\n",
    "                    ans+=(abs(temp[i]))\n",
    "                    temp.pop()\n",
    "        if abs(temp[0])>abs(temp[-1]) and len(temp)>=m:\n",
    "            ans+=abs(temp[-1])\n",
    "            for _ in range(m):\n",
    "                temp.pop()\n",
    "            print(ans)\n",
    "            if abs(temp[0])>abs(temp[-1]) and len(temp)>=m:\n",
    "                ans+=abs(temp[0])*2\n",
    "                for _ in range(m):\n",
    "                    temp.pop(0)\n",
    "            elif abs(temp[0])<abs(temp[-1]) and len(temp)>=m:\n",
    "                ans+=abs(temp[0])*2\n",
    "                for _ in range(m):\n",
    "                    temp.pop(0)        \n",
    "            elif len(temp)<=m:\n",
    "                for i in range(len(temp)):\n",
    "                    ans+=(abs(temp[i]))\n",
    "                    temp.pop()\n",
    "print(ans)\n"
   ]
  },
  {
   "cell_type": "code",
   "execution_count": null,
   "metadata": {},
   "outputs": [],
   "source": [
    "-39 -37 -29 -28 -6 2 11"
   ]
  },
  {
   "cell_type": "markdown",
   "metadata": {},
   "source": [
    "# 컵라면\n",
    "## boj 1781\n",
    "https://www.acmicpc.net/problem/1781"
   ]
  },
  {
   "cell_type": "code",
   "execution_count": 20,
   "metadata": {},
   "outputs": [
    {
     "name": "stdout",
     "output_type": "stream",
     "text": [
      "7\n",
      "1 6\n",
      "1 7\n",
      "3 2\n",
      "3 1\n",
      "2 4\n",
      "2 5\n",
      "6 1\n"
     ]
    },
    {
     "ename": "TypeError",
     "evalue": "'int' object is not iterable",
     "output_type": "error",
     "traceback": [
      "\u001b[1;31m---------------------------------------------------------------------------\u001b[0m",
      "\u001b[1;31mTypeError\u001b[0m                                 Traceback (most recent call last)",
      "\u001b[1;32m<ipython-input-20-2c2afaca6104>\u001b[0m in \u001b[0;36m<module>\u001b[1;34m\u001b[0m\n\u001b[0;32m     12\u001b[0m \u001b[1;32mfor\u001b[0m \u001b[0mi\u001b[0m \u001b[1;32min\u001b[0m \u001b[0mrange\u001b[0m\u001b[1;33m(\u001b[0m\u001b[0ma\u001b[0m\u001b[1;33m)\u001b[0m\u001b[1;33m:\u001b[0m\u001b[1;33m\u001b[0m\u001b[1;33m\u001b[0m\u001b[0m\n\u001b[0;32m     13\u001b[0m     \u001b[1;32mif\u001b[0m \u001b[0mtime\u001b[0m\u001b[1;33m==\u001b[0m\u001b[0mans\u001b[0m\u001b[1;33m[\u001b[0m\u001b[0mi\u001b[0m\u001b[1;33m]\u001b[0m\u001b[1;33m[\u001b[0m\u001b[1;36m0\u001b[0m\u001b[1;33m]\u001b[0m\u001b[1;33m:\u001b[0m\u001b[1;33m\u001b[0m\u001b[1;33m\u001b[0m\u001b[0m\n\u001b[1;32m---> 14\u001b[1;33m         \u001b[0man\u001b[0m\u001b[1;33m+=\u001b[0m\u001b[0mint\u001b[0m\u001b[1;33m(\u001b[0m\u001b[0mmax\u001b[0m\u001b[1;33m(\u001b[0m\u001b[0mans\u001b[0m\u001b[1;33m[\u001b[0m\u001b[0mi\u001b[0m\u001b[1;33m]\u001b[0m\u001b[1;33m[\u001b[0m\u001b[1;36m0\u001b[0m\u001b[1;33m]\u001b[0m\u001b[1;33m)\u001b[0m\u001b[1;33m)\u001b[0m\u001b[1;33m\u001b[0m\u001b[1;33m\u001b[0m\u001b[0m\n\u001b[0m\u001b[0;32m     15\u001b[0m         \u001b[0mtime\u001b[0m\u001b[1;33m+=\u001b[0m\u001b[1;36m1\u001b[0m\u001b[1;33m\u001b[0m\u001b[1;33m\u001b[0m\u001b[0m\n\u001b[0;32m     16\u001b[0m \u001b[0mprint\u001b[0m\u001b[1;33m(\u001b[0m\u001b[0man\u001b[0m\u001b[1;33m)\u001b[0m\u001b[1;33m\u001b[0m\u001b[1;33m\u001b[0m\u001b[0m\n",
      "\u001b[1;31mTypeError\u001b[0m: 'int' object is not iterable"
     ]
    }
   ],
   "source": [
    "\n",
    "a=int(input())\n",
    "temp=[]\n",
    "ans=[]\n",
    "q=[]\n",
    "for _ in range(a):\n",
    "    d,n=map(int,input().split())\n",
    "    temp.append((d,n))\n",
    "ans=sorted(temp,key=lambda x:x[0])\n",
    "for i in range(a):\n",
    "    if time==ans[i][0]:\n",
    "        an+=int(max(ans[i][0]))\n",
    "        time+=1\n",
    "print(an)"
   ]
  },
  {
   "cell_type": "code",
   "execution_count": null,
   "metadata": {},
   "outputs": [],
   "source": []
  }
 ],
 "metadata": {
  "kernelspec": {
   "display_name": "Python 3",
   "language": "python",
   "name": "python3"
  },
  "language_info": {
   "codemirror_mode": {
    "name": "ipython",
    "version": 3
   },
   "file_extension": ".py",
   "mimetype": "text/x-python",
   "name": "python",
   "nbconvert_exporter": "python",
   "pygments_lexer": "ipython3",
   "version": "3.7.4"
  }
 },
 "nbformat": 4,
 "nbformat_minor": 2
}
