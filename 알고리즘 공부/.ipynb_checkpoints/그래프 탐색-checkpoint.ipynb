{
 "cells": [
  {
   "cell_type": "markdown",
   "metadata": {},
   "source": [
    "# bfs dfs\n",
    "## boj 1260\n",
    "https://www.acmicpc.net/problem/1260\n"
   ]
  },
  {
   "cell_type": "code",
   "execution_count": null,
   "metadata": {},
   "outputs": [],
   "source": [
    "from collections import deque\n",
    "def dfs(v):\n",
    "    print(v,end=' ')\n",
    "    visited[v] =True\n",
    "    for e in temp[v]:\n",
    "        if not(visited[e]):\n",
    "            dfs(e)\n",
    "def bfs(v):\n",
    "    q=deque([v])\n",
    "    while q:\n",
    "        v=q.popleft()\n",
    "        break\n",
    "        if not(visited[v]): #방문하지 않았다면\n",
    "            visited[v]=True #방문처리\n",
    "            print(v,end=' ') #노드 출력\n",
    "            for e in temp[v]: \n",
    "                if not visited[e]:\n",
    "                    q.append(e)\n",
    "\n",
    "n,m,v=map(int,input().split())\n",
    "temp=[[] for _ in range(n+1)]\n",
    "for _ in range(m):\n",
    "    a,b=map(int,input().split())\n",
    "    temp[a].append(b)\n",
    "    temp[b].append(a)\n",
    "for e in temp:\n",
    "    e.sort()\n",
    "\n",
    "visited=[False]*(n+1)\n",
    "bfs(v)"
   ]
  },
  {
   "cell_type": "code",
   "execution_count": null,
   "metadata": {},
   "outputs": [],
   "source": [
    "q=deque([1])\n",
    "v=q.popleft()\n",
    "\n",
    "print(v)"
   ]
  },
  {
   "cell_type": "code",
   "execution_count": null,
   "metadata": {},
   "outputs": [],
   "source": [
    "from collections import deque\n",
    "s,e=map(int,input().split())\n",
    "MAX=100001\n",
    "array=[0]*MAX\n",
    "def bfs():\n",
    "    q=deque([s])\n",
    "    while q:\n",
    "        v=q.popleft()\n",
    "        if v==e:\n",
    "            return array[v]\n",
    "        for a in (v-1,v+1,v*2):\n",
    "            if 0<=a<MAX and not array[a]:\n",
    "                array[a]=array[v]+1\n",
    "                q.append(a)\n",
    "print(bfs())\n",
    "            "
   ]
  },
  {
   "cell_type": "markdown",
   "metadata": {},
   "source": [
    "# 바이러스\n",
    "## boj 2606\n",
    "https://www.acmicpc.net/problem/2606"
   ]
  },
  {
   "cell_type": "code",
   "execution_count": null,
   "metadata": {},
   "outputs": [],
   "source": [
    "from collections import deque\n",
    "n=int(input())\n",
    "m=int(input())\n",
    "ans=0\n",
    "temp=[[] for _ in range(n+1)]\n",
    "for _ in range(m):\n",
    "    a,b=map(int,input().split())\n",
    "    temp[a].append(b)\n",
    "    temp[b].append(a)\n",
    "print(temp)\n",
    "check=[False]*(n+1)\n",
    "def bfs(start):\n",
    "    q=deque([start])\n",
    "    while q:\n",
    "        v=q.popleft()\n",
    "        print(v)\n",
    "        if not check[v]:\n",
    "            check[v]=True\n",
    "            for e in temp[v]:\n",
    "                if not check[e]:\n",
    "                    q.append(e)\n",
    "bfs(1) \n",
    "print(check)\n",
    "for i in check:\n",
    "    if i==True:\n",
    "        ans+=1\n",
    "print(ans-1)\n",
    "\n",
    "        "
   ]
  },
  {
   "cell_type": "markdown",
   "metadata": {},
   "source": [
    "# 유기농 배추\n",
    "## boj 1012\n",
    "https://www.acmicpc.net/problem/1012"
   ]
  },
  {
   "cell_type": "code",
   "execution_count": null,
   "metadata": {},
   "outputs": [],
   "source": [
    "import sys\n",
    "sys.setrecursionlimit(100000)\n",
    "from collections import deque\n",
    "\n",
    "n=int(input())\n",
    "def bfs(x,y):\n",
    "    di=[(-1,0),(1,0),(0,-1),(0,1)]\n",
    "    visited[x][y]=True\n",
    "    for dx,dy in di:\n",
    "        nx,ny=x+dx,y+dy\n",
    "        if nx<0 or nx>=n or ny<0 or ny>=m:\n",
    "            continue\n",
    "        if array[nx][ny] and not visited[nx][ny]:\n",
    "            bfs(nx,ny)\n",
    "    \n",
    "for _ in range(n):\n",
    "    m,n,k=map(int,input().split())\n",
    "    array=[[0]*m for _ in range(n)]\n",
    "    visited=[[False]*m for _ in range(n)]\n",
    "    result=0\n",
    "    for _ in range(k):\n",
    "        y,x=map(int,input().split())\n",
    "        array[x][y]=1\n",
    "    for i in range(n):\n",
    "        for j in range(m):\n",
    "            if array[i][j] and not visited[i][j]:\n",
    "                bfs(i,j)\n",
    "                result+=1\n",
    "    print(result)\n",
    "        "
   ]
  },
  {
   "cell_type": "markdown",
   "metadata": {},
   "source": [
    "# 효율적인 해킹\n",
    "## boj 1325\n",
    "https://www.acmicpc.net/problem/1325"
   ]
  },
  {
   "cell_type": "code",
   "execution_count": 1,
   "metadata": {},
   "outputs": [
    {
     "name": "stdout",
     "output_type": "stream",
     "text": [
      "5 4\n",
      "3 1\n",
      "3 2\n",
      "4 3\n",
      "5 3\n",
      "1 2 "
     ]
    }
   ],
   "source": [
    "from collections import deque\n",
    "n,m=map(int,input().split())\n",
    "array=[[] for i in range(n+1)]\n",
    "visited=[False]*(n+1)\n",
    "temp=[]\n",
    "for _ in range(m):\n",
    "    a,b=map(int,input().split())\n",
    "    array[b].append(a)\n",
    "def bfs(start):\n",
    "    q=deque([start])\n",
    "    while q:\n",
    "        v=q.popleft()\n",
    "        if not visited[v]:\n",
    "            visited[v]=True\n",
    "            for e in array[v]:\n",
    "                if not visited[e]:\n",
    "                    q.append(e)\n",
    "                \n",
    "for i in range(1,n+1):\n",
    "    bfs(i)\n",
    "    cnt=0\n",
    "    for j in visited:\n",
    "        if j==True:\n",
    "            cnt+=1\n",
    "    temp.append(cnt)\n",
    "    visited=[False]*(n+1)\n",
    "maxi=max(temp)\n",
    "for k in range(len(temp)):\n",
    "    if maxi==temp[k]:\n",
    "        print(k+1,end=' ')"
   ]
  },
  {
   "cell_type": "markdown",
   "metadata": {},
   "source": [
    "   # 해킹\n",
    "   ## boj 10282\n",
    "   https://www.acmicpc.net/problem/10282\n",
    "  "
   ]
  },
  {
   "cell_type": "code",
   "execution_count": null,
   "metadata": {},
   "outputs": [],
   "source": [
    "import heapq\n",
    "\n",
    "def dik(start):\n",
    "    queue=[]\n",
    "    heapq.heappush(queue,(0,start))\n",
    "    distance[start]=0\n",
    "    while queue:\n",
    "        dist,now=heapq.heappop(queue)\n",
    "        print(dist)\n",
    "        print(now)\n",
    "for _ in range(int(input())):\n",
    "    n,d,c=map(int,input().split())\n",
    "    temp=[[]for i in range(n+1)]\n",
    "    distance=[1e9]*(n+1)\n",
    "    for _ in range(d):\n",
    "        a,b,s=map(int,input().split())\n",
    "        temp[b].append((a,s))\n",
    "dik(c)"
   ]
  }
 ],
 "metadata": {
  "kernelspec": {
   "display_name": "Python 3",
   "language": "python",
   "name": "python3"
  },
  "language_info": {
   "codemirror_mode": {
    "name": "ipython",
    "version": 3
   },
   "file_extension": ".py",
   "mimetype": "text/x-python",
   "name": "python",
   "nbconvert_exporter": "python",
   "pygments_lexer": "ipython3",
   "version": "3.7.4"
  }
 },
 "nbformat": 4,
 "nbformat_minor": 2
}
