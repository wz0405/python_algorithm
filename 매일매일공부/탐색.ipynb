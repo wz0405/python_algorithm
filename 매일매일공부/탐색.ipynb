{
 "cells": [
  {
   "cell_type": "markdown",
   "metadata": {},
   "source": [
    "# 빙산 **\n",
    "## boj 2573\n",
    "https://www.acmicpc.net/problem/2573"
   ]
  },
  {
   "cell_type": "code",
   "execution_count": null,
   "metadata": {},
   "outputs": [],
   "source": [
    "import sys\n",
    "dx=[-1,1,0,0]\n",
    "dy=[0,0,-1,1]\n",
    "cnt=0\n",
    "count=0\n",
    "ck=False\n",
    "def dfs(i,j):\n",
    "    visited[i][j]=True\n",
    "    for w in range(4):\n",
    "        xx,yy=i+dx[w],j+dy[w]\n",
    "        if xx<0 or xx>=n or yy<0 or yy>=m:\n",
    "            continue\n",
    "        if visited[xx][yy]==False and temp[xx][yy]>0:\n",
    "            dfs(xx,yy)\n",
    "n,m=map(int,input().split())\n",
    "visited=[([False]*m) for _ in range(n)]\n",
    "temp=[[0]*m for _ in range(n)]\n",
    "for i in range(n):\n",
    "    temp[i]=list(map(int,input().split()))\n",
    "while True:\n",
    "    for a in range(n):\n",
    "        for b in range(m):\n",
    "            if visited[a][b]==False and temp[a][b]>0:\n",
    "                dfs(a,b)\n",
    "                cnt+=1\n",
    "    for j in range(n):\n",
    "        for k in range(m):\n",
    "            if temp[j][k]>0:\n",
    "                ck=True\n",
    "                temp[j][k]-=1\n",
    "            \n",
    "    count+=1\n",
    "    if cnt>1:\n",
    "        break\n",
    "    if ck==False:\n",
    "        print(0)\n",
    "        sys.exit()\n",
    "\n",
    "    visited=[([False]*m) for _ in range(n)]\n",
    "    cnt=0\n",
    "    ck=False\n",
    "print(count)"
   ]
  },
  {
   "cell_type": "markdown",
   "metadata": {},
   "source": [
    "# 단지번호 붙이기\n",
    "## boj 2667\n",
    "https://www.acmicpc.net/problem/2667"
   ]
  },
  {
   "cell_type": "code",
   "execution_count": null,
   "metadata": {},
   "outputs": [],
   "source": [
    "n=int(input())\n",
    "cnt=0\n",
    "dx=[-1,1,0,0]\n",
    "dy=[0,0,-1,1]\n",
    "ans=[]\n",
    "def dfs(i,j):\n",
    "    global cnt\n",
    "    visited[i][j]=True\n",
    "    cnt+=1\n",
    "    for w in range(4):\n",
    "        xx,yy=i+dx[w],j+dy[w]\n",
    "        if xx<0 or xx>=n or yy<0 or yy>=n:\n",
    "            continue\n",
    "        if visited[xx][yy]==False and temp[xx][yy]==1:\n",
    "            dfs(xx,yy)\n",
    "\n",
    "temp=[[]for _ in range(n)]\n",
    "visited=[([False]*n) for _ in range(n)]\n",
    "for i in range(n):\n",
    "    ma=input()\n",
    "    for j in ma:\n",
    "        temp[i].append(int(j))\n",
    "for a in range(n):\n",
    "    for b in range(n):\n",
    "        if temp[a][b]==1 and visited[a][b]==False:\n",
    "            cnt=0\n",
    "            dfs(a,b)\n",
    "            ans.append(cnt)\n",
    "\n",
    "print(len(ans))\n",
    "ans.sort()\n",
    "for k in ans:\n",
    "    print(k)\n"
   ]
  },
  {
   "cell_type": "markdown",
   "metadata": {},
   "source": [
    "# 케빈 베이컨의 6단계 법칙\n",
    "## boj 1389\n",
    "https://www.acmicpc.net/problem/1389"
   ]
  },
  {
   "cell_type": "code",
   "execution_count": null,
   "metadata": {},
   "outputs": [],
   "source": [
    "from collections import deque\n",
    "n,m=map(int,input().split())\n",
    "temp=[[] for _ in range(n+1)]\n",
    "minV = 123456789\n",
    "minP = 123456789\n",
    "def bfs(v):\n",
    "    q=deque([v])\n",
    "    visited=[False]*(n+1)\n",
    "    D=[0]*(n+1)\n",
    "    visited[v]=True\n",
    "    while q:\n",
    "        x=q.popleft()\n",
    "        for i in temp[x]:\n",
    "            if not visited[i]:\n",
    "                D[i]=D[x]+1\n",
    "                visited[i]=True\n",
    "                q.append(i)\n",
    "    print(D)\n",
    "    return D\n",
    "for _ in range(m):\n",
    "    x,y=map(int,input().split())\n",
    "    temp[x].append(y)\n",
    "    temp[y].append(x)\n",
    "for i in range(1,n+1):\n",
    "    total=sum(bfs(i))\n",
    "    if minV>=total:\n",
    "        if minV==total:\n",
    "            if minP>i:\n",
    "                minP=i\n",
    "        else:\n",
    "            minV=total\n",
    "            minP=i\n",
    "print(minP)"
   ]
  },
  {
   "cell_type": "markdown",
   "metadata": {},
   "source": [
    "# 순열 사이클\n",
    "## boj 10451\n",
    "https://www.acmicpc.net/problem/10451"
   ]
  },
  {
   "cell_type": "code",
   "execution_count": null,
   "metadata": {},
   "outputs": [],
   "source": [
    "from collections import deque\n",
    "def bfs(v):\n",
    "    q=deque([v])\n",
    "    print(q)\n",
    "    while q:\n",
    "        v=q.popleft()\n",
    "        if not check[v]:\n",
    "            check[v]=True\n",
    "            for e in temp[v]:\n",
    "                if not check[e]:\n",
    "                    q.append(e)\n",
    "for _ in range(int(input())):\n",
    "    cnt=0\n",
    "    n=int(input())\n",
    "    temp=[[] for _ in range(n+1)]\n",
    "    check=[False]*(n+1)\n",
    "    array=list(map(int,input().split()))\n",
    "    for i in range(1,n+1):\n",
    "        temp[i].append(array[i-1])\n",
    "    for i in range(1,n+1):\n",
    "        if check[i] is False:\n",
    "            bfs(i)\n",
    "            cnt+=1\n",
    "    print(cnt)\n",
    "    "
   ]
  },
  {
   "cell_type": "markdown",
   "metadata": {},
   "source": [
    "# 토마토\n",
    "https://www.acmicpc.net/problem/7576"
   ]
  },
  {
   "cell_type": "code",
   "execution_count": null,
   "metadata": {},
   "outputs": [],
   "source": [
    "from collections import deque\n",
    "dx=[-1,1,0,0]\n",
    "dy=[0,0,-1,1]\n",
    "count=0\n",
    "def dfs():\n",
    "    q=deque([])\n",
    "    for i in range(n):\n",
    "        for j in range(m):\n",
    "            if temp[i][j]==1:\n",
    "                q.append((i,j))\n",
    "    while q:\n",
    "        x,y=q.popleft()\n",
    "        for w in range(4):\n",
    "            xx,yy=x+dx[w],y+dy[w]\n",
    "            if xx<0 or xx>=n or yy<0 or yy>=m:\n",
    "                continue\n",
    "            if temp[xx][yy]==0:\n",
    "                q.append((xx,yy))\n",
    "                temp[xx][yy]=temp[x][y]+1\n",
    "m,n=map(int,input().split())\n",
    "temp=[[]for _ in range(n)]\n",
    "for i in range(n):\n",
    "    temp[i]=list(map(int,input().split()))\n",
    "dfs()\n",
    "for a in range(n):\n",
    "    if count==-1:\n",
    "        break\n",
    "    for b in range(m):\n",
    "        if temp[a][b]==0:\n",
    "            count=-1\n",
    "            break\n",
    "        elif temp[a][b]>count:\n",
    "            count=temp[a][b]\n",
    "if count==-1:\n",
    "    print(count)\n",
    "else:\n",
    "    print(count-1)\n",
    "        \n"
   ]
  },
  {
   "cell_type": "markdown",
   "metadata": {},
   "source": [
    "# 안전 영역\n",
    "https://www.acmicpc.net/problem/2468"
   ]
  },
  {
   "cell_type": "code",
   "execution_count": null,
   "metadata": {},
   "outputs": [],
   "source": [
    "import sys\n",
    "sys.setrecursionlimit(100000)\n",
    "dx=[-1,1,0,0]\n",
    "dy=[0,0,-1,1]\n",
    "ans=[]\n",
    "cnt=0\n",
    "asd=[]\n",
    "maximum=0\n",
    "def dfs(x,y):\n",
    "    visited[x][y]=True\n",
    "    for w in range(4):\n",
    "        xx,yy=x+dx[w],y+dy[w]\n",
    "        if xx<0 or xx>=n or yy<0 or yy>=n:\n",
    "            continue\n",
    "        if visited[xx][yy]==False and temp[xx][yy]>num:\n",
    "            dfs(xx,yy)\n",
    "n=int(input())\n",
    "temp=[[]for _ in range(n)]\n",
    "\n",
    "for i in range(n):\n",
    "    temp[i]=list(map(int,input().split()))\n",
    "for k in range(n):\n",
    "    maxi=max(temp[k])\n",
    "    asd.append(maxi)\n",
    "    maximum=max(asd)\n",
    "for num in range(maximum):\n",
    "    visited=[([False]*n) for _ in range(n)]\n",
    "    safe=0\n",
    "    for a in range(n):\n",
    "        for b in range(n):\n",
    "            if temp[a][b]>num and not visited[a][b]:\n",
    "                safe+=1\n",
    "                dfs(a,b)\n",
    "    ans.append(safe)\n",
    "print(max(ans))"
   ]
  },
  {
   "cell_type": "code",
   "execution_count": null,
   "metadata": {},
   "outputs": [],
   "source": [
    "5\n",
    "6 8 2 6 2\n",
    "3 2 3 4 6\n",
    "6 7 3 3 2\n",
    "7 2 5 3 6\n",
    "8 9 5 2 7"
   ]
  },
  {
   "cell_type": "markdown",
   "metadata": {},
   "source": [
    "# 적록색약\n",
    "https://www.acmicpc.net/problem/10026"
   ]
  },
  {
   "cell_type": "code",
   "execution_count": 10,
   "metadata": {},
   "outputs": [
    {
     "name": "stdout",
     "output_type": "stream",
     "text": [
      "5\n",
      "RRRBB\n",
      "GGBBB\n",
      "BBBRR\n",
      "BBRRR\n",
      "RRRRR\n",
      "4 3\n"
     ]
    }
   ],
   "source": [
    "import sys\n",
    "sys.setrecursionlimit(100000)\n",
    "dx=[1,-1,0,0]\n",
    "dy=[0,0,-1,1]\n",
    "color=''\n",
    "cnt=0\n",
    "count=0\n",
    "def dfs(x,y,color):\n",
    "    visited[x][y]=True\n",
    "    for w in range(4):\n",
    "        xx,yy=x+dx[w],y+dy[w]\n",
    "        if xx<0 or xx>=n or yy<0 or yy>=n:\n",
    "            continue\n",
    "        if visited[xx][yy]==False and temp[xx][yy]==color:\n",
    "            dfs(xx,yy,color)\n",
    "n=int(input())\n",
    "temp=[[]for _ in range(n)]\n",
    "visited=[([False]*n)for _ in range(n)]\n",
    "for i in range(n):\n",
    "    temp[i]=list(input())\n",
    "for a in range(n):\n",
    "    for b in range(n):\n",
    "        color=temp[a][b]\n",
    "        if visited[a][b]==False and temp[a][b]==color:\n",
    "            dfs(a,b,color)\n",
    "            cnt+=1\n",
    "\n",
    "for c in range(n):\n",
    "    for d in range(n):\n",
    "        if temp[c][d]=='G':\n",
    "            temp[c][d]='R'\n",
    "visited=[([False]*n)for _ in range(n)]\n",
    "for e in range(n):\n",
    "    for f in range(n):\n",
    "        color=temp[e][f]\n",
    "        if visited[e][f]==False and temp[e][f]==color:\n",
    "            dfs(e,f,color)\n",
    "            count+=1\n",
    "print(cnt,end=' ')\n",
    "print(count)"
   ]
  },
  {
   "cell_type": "markdown",
   "metadata": {},
   "source": [
    "# 알파벳\n",
    "https://www.acmicpc.net/problem/1987"
   ]
  },
  {
   "cell_type": "code",
   "execution_count": 17,
   "metadata": {},
   "outputs": [
    {
     "name": "stdout",
     "output_type": "stream",
     "text": [
      "2 2\n",
      "AB\n",
      "CD\n",
      "4\n"
     ]
    }
   ],
   "source": [
    "import sys\n",
    "sys.setrecursionlimit(100000)\n",
    "dx=[-1,1,0,0]\n",
    "dy=[0,0,-1,1]\n",
    "ja=[]\n",
    "cnt=0\n",
    "def dfs(x,y,z):\n",
    "    global cnt\n",
    "    cnt=max(cnt,z)\n",
    "    for w in range(4):\n",
    "        xx,yy=x+dx[w],y+dy[w]\n",
    "        if xx<0 or xx>=n or yy<0 or yy>=m:\n",
    "            continue\n",
    "        c=ord(temp[xx][yy])-ord('A')\n",
    "        if not visited[c]:\n",
    "            visited[c]=True\n",
    "            dfs(xx,yy,z+1)\n",
    "            visited[c]=False\n",
    "n,m=map(int,input().split())\n",
    "temp=[[]for _ in range(n)]\n",
    "visited=[False]*26\n",
    "for i in range(n):\n",
    "    temp[i]=list(input())\n",
    "visited[ord(temp[0][0])-ord('A')]=True\n",
    "dfs(0,0,1)\n",
    "print(cnt)"
   ]
  },
  {
   "cell_type": "code",
   "execution_count": null,
   "metadata": {},
   "outputs": [],
   "source": []
  },
  {
   "cell_type": "markdown",
   "metadata": {},
   "source": [
    "## "
   ]
  },
  {
   "cell_type": "code",
   "execution_count": null,
   "metadata": {},
   "outputs": [],
   "source": [
    "aaa\n",
    "bbc\n",
    "cde"
   ]
  }
 ],
 "metadata": {
  "kernelspec": {
   "display_name": "Python 3",
   "language": "python",
   "name": "python3"
  },
  "language_info": {
   "codemirror_mode": {
    "name": "ipython",
    "version": 3
   },
   "file_extension": ".py",
   "mimetype": "text/x-python",
   "name": "python",
   "nbconvert_exporter": "python",
   "pygments_lexer": "ipython3",
   "version": "3.7.6"
  }
 },
 "nbformat": 4,
 "nbformat_minor": 2
}
