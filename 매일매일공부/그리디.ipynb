{
 "cells": [
  {
   "cell_type": "markdown",
   "metadata": {},
   "source": [
    "# 회의실 배정\n",
    "## boj 1931\n",
    "https://www.acmicpc.net/problem/1931"
   ]
  },
  {
   "cell_type": "code",
   "execution_count": null,
   "metadata": {},
   "outputs": [],
   "source": [
    "n=int(input())\n",
    "temp=[]\n",
    "cnt=0\n",
    "l=0\n",
    "for _ in range(n):\n",
    "    x,y=map(int,(input().split()))\n",
    "    temp.append([x,y])\n",
    "    temp=sorted(temp,key=lambda a : a[0])\n",
    "    temp=sorted(temp,key=lambda a : a[1])\n",
    "print(temp)\n",
    "for i,j in temp:\n",
    "    if i>=l:\n",
    "        cnt+=1\n",
    "        l=j\n",
    "print(cnt)\n",
    "    "
   ]
  },
  {
   "cell_type": "markdown",
   "metadata": {},
   "source": [
    "# ATM\n",
    "## boj 11399\n",
    "https://www.acmicpc.net/problem/11399"
   ]
  },
  {
   "cell_type": "code",
   "execution_count": null,
   "metadata": {},
   "outputs": [],
   "source": [
    "n=int(input())\n",
    "ans=[0]*(n+1)\n",
    "temp=list(map(int,input().split()))\n",
    "temp.sort()\n",
    "for i in range(n):\n",
    "    for j in range(i+1):\n",
    "        ans[i]+=temp[j]\n",
    "print(sum(ans))"
   ]
  },
  {
   "cell_type": "markdown",
   "metadata": {},
   "source": [
    "# 30 **\n",
    "## boj 10610\n",
    "https://www.acmicpc.net/problem/10610"
   ]
  },
  {
   "cell_type": "code",
   "execution_count": null,
   "metadata": {},
   "outputs": [],
   "source": [
    "from itertools import permutations\n",
    "n=input()\n",
    "temp=[]\n",
    "ans=[]\n",
    "now=''\n",
    "for i in n:\n",
    "    temp.append(i)\n",
    "ans=list(permutations(temp,len(temp)))\n",
    "ans.sort(reverse=True)\n",
    "for j in range(len(ans)):\n",
    "    a=ans[j]\n",
    "    for k in a:\n",
    "        now+=k\n",
    "    test=int(now)\n",
    "    if test%30==0:\n",
    "        print(test)\n",
    "        break\n",
    "    else:\n",
    "        test=''\n",
    "        print(-1)\n",
    "        break\n",
    "    "
   ]
  },
  {
   "cell_type": "markdown",
   "metadata": {},
   "source": [
    "   # 단어뒤집기\n",
    "   ## boj 1439\n",
    "   https://www.acmicpc.net/problem/1439"
   ]
  },
  {
   "cell_type": "code",
   "execution_count": null,
   "metadata": {},
   "outputs": [],
   "source": [
    "temp=input()\n",
    "znum=0\n",
    "onum=0\n",
    "if temp[0]=='1':\n",
    "    znum+=1\n",
    "else:\n",
    "    onum+=1\n",
    "for i in range(len(temp)-1):\n",
    "    if temp[i]!=temp[i+1]:\n",
    "        if temp[i+1]=='1':\n",
    "            znum+=1\n",
    "        else:\n",
    "            onum+=1\n",
    "print(min(znum,onum))"
   ]
  },
  {
   "cell_type": "markdown",
   "metadata": {},
   "source": [
    "# 기타줄\n",
    "https://www.acmicpc.net/problem/1049"
   ]
  },
  {
   "cell_type": "code",
   "execution_count": null,
   "metadata": {},
   "outputs": [],
   "source": [
    "n,m=map(int,input().split())\n",
    "temp=[]\n",
    "pack=[]\n",
    "one=[]\n",
    "ans=0\n",
    "for i in range(m):\n",
    "    x,y=map(int,input().split())\n",
    "    pack.append(x)\n",
    "    one.append(y)\n",
    "s=min(pack)\n",
    "o=min(one)\n",
    "mok=n//6\n",
    "na=n%6\n",
    "while True:\n",
    "    if n<=0:\n",
    "        break\n",
    "    elif n>=6:\n",
    "        if s<o*6: #세트값이 더 싸면\n",
    "            ans+=s\n",
    "            n-=6\n",
    "        else:\n",
    "            ans+=o\n",
    "            n-=1\n",
    "    elif n<6:\n",
    "        if s>o*n:\n",
    "            ans+=o\n",
    "            n-=1\n",
    "        else:\n",
    "            ans+=s\n",
    "            n-=6\n",
    "print(ans)"
   ]
  },
  {
   "cell_type": "markdown",
   "metadata": {},
   "source": [
    "# 로프\n",
    "https://www.acmicpc.net/problem/2217"
   ]
  },
  {
   "cell_type": "code",
   "execution_count": null,
   "metadata": {},
   "outputs": [],
   "source": [
    "import sys\n",
    "n=int(input())\n",
    "temp=[]\n",
    "ans=[]\n",
    "for _ in range(n):\n",
    "    temp.append(int(input()))\n",
    "temp.sort(reverse=True)\n",
    "for i in range(len(temp)):\n",
    "    ans.append(temp[i]*(i+1))\n",
    "print(max(ans))"
   ]
  },
  {
   "cell_type": "markdown",
   "metadata": {},
   "source": [
    "# 대회 or 인턴\n",
    "https://www.acmicpc.net/problem/2875"
   ]
  },
  {
   "cell_type": "code",
   "execution_count": 9,
   "metadata": {},
   "outputs": [
    {
     "name": "stdout",
     "output_type": "stream",
     "text": [
      "6 3 2\n",
      "2\n"
     ]
    }
   ],
   "source": [
    "import sys\n",
    "\n",
    "n,m,k=map(int,input().split())\n",
    "cnt=0\n",
    "tot=0\n",
    "if k>0:\n",
    "    while True:\n",
    "        if n>=m*2:\n",
    "            n-=1\n",
    "        else:\n",
    "            m-=1\n",
    "        cnt+=1\n",
    "        if cnt==k:\n",
    "            break\n",
    "if n//2<=m:\n",
    "    tot=n//2\n",
    "else:\n",
    "    tot=m\n",
    "print(tot)"
   ]
  },
  {
   "cell_type": "markdown",
   "metadata": {},
   "source": [
    "# 잃어버린 괄호\n",
    "https://www.acmicpc.net/problem/1541"
   ]
  },
  {
   "cell_type": "code",
   "execution_count": 20,
   "metadata": {},
   "outputs": [
    {
     "name": "stdout",
     "output_type": "stream",
     "text": [
      "1+2+3-3+4+5\n",
      "[6, 12]\n",
      "-6\n"
     ]
    }
   ],
   "source": [
    "a = input().split('-')\n",
    "num = []\n",
    "for i in a:\n",
    "    cnt = 0\n",
    "    s = i.split('+')\n",
    "    for j in s:\n",
    "        cnt += int(j)\n",
    "    num.append(cnt)\n",
    "n = num[0]\n",
    "for i in range(1, len(num)):\n",
    "    n -= num[i]\n",
    "print(n)"
   ]
  },
  {
   "cell_type": "code",
   "execution_count": null,
   "metadata": {},
   "outputs": [],
   "source": []
  }
 ],
 "metadata": {
  "kernelspec": {
   "display_name": "Python 3",
   "language": "python",
   "name": "python3"
  },
  "language_info": {
   "codemirror_mode": {
    "name": "ipython",
    "version": 3
   },
   "file_extension": ".py",
   "mimetype": "text/x-python",
   "name": "python",
   "nbconvert_exporter": "python",
   "pygments_lexer": "ipython3",
   "version": "3.7.6"
  }
 },
 "nbformat": 4,
 "nbformat_minor": 2
}
